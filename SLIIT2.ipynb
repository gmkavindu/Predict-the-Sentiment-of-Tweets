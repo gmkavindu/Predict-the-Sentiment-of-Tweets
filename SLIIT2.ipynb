import pandas as pd


file_path = '/content/Tweets.csv'

# Read the dataset into a DataFrame
df = pd.read_csv(file_path)

print("Shape of the DataFrame:", df.shape)

df = df[["airline_sentiment", "text"]]

import nltk
import string
import re
from nltk.stem.porter import PorterStemmer
from nltk.corpus import stopwords

nltk.download('stopwords')
nltk.download('punkt')
ps = PorterStemmer()

def clean_text(text):
    text = text.lower()
    text = re.sub(r'http.?://[^\s]+[\s]?', '', text)
    text = nltk.word_tokenize(text)
    y = []
    for i in text:
        if i not in stopwords.words('english'):
            y.append(i)
    text = y[:]
    y.clear()
    for i in text:
        y.append(ps.stem(i))
    return " ".join(y)

# Apply the "clean_text" function to the "text" column
df['text_cleaned'] = df['text'].apply(clean_text)

# Check the DataFrame to see the new "text_cleaned" column


from sklearn.feature_extraction.text import TfidfVectorizer

# Initialize TfidfVectorizer with max_features=3000
tfidf_vectorizer = TfidfVectorizer(max_features=3000)

# Fit and transform the "text_cleaned" column to obtain the TF-IDF features
X_tfidf = tfidf_vectorizer.fit_transform(df['text_cleaned'])

Y = df['airline_sentiment'].values




from sklearn.model_selection import train_test_split

X_train, X_test, Y_train, Y_test = train_test_split(X_tfidf, Y, test_size=0.2, random_state=2)

from sklearn.naive_bayes import MultinomialNB
from sklearn.metrics import accuracy_score

nb_classifier = MultinomialNB()
nb_classifier.fit(X_train, Y_train)

Y_pred = nb_classifier.predict(X_test)

accuracy = accuracy_score(Y_test, Y_pred)
print("Accuracy of the Naïve Bayes classifier:", accuracy)

from sklearn.ensemble import RandomForestClassifier
from sklearn.metrics import accuracy_score

# Create a Random Forest classifier
model = RandomForestClassifier()

# Train the model using the training dataset
model.fit(X_train, Y_train)

# Make predictions on the test dataset
Y_pred = model.predict(X_test)

# Calculate the accuracy of the model
accuracy = accuracy_score(Y_test, Y_pred)
print("Accuracy of the Random Forest classifier:", accuracy)

print("Shape of X_tfidf:", X_tfidf.shape)

first_tweet_text = df['text_cleaned'].head(1).values[0]
print("Preprocessed text for the first tweet:")
print(first_tweet_text)
# Assuming you have already loaded the dataset into the DataFrame "df"

# Use groupby and size to count the instances with "negative" sentiment class
negative_count = df.groupby('airline_sentiment').size()['negative']

print("Number of instances with 'negative' sentiment class:", negative_count)

# Assuming you have already loaded the dataset into the DataFrame "df"

# Filter the rows with "neutral" sentiment class and count the unique tweets
neutral_unique_tweets = df[df['airline_sentiment'] == 'neutral']['text_cleaned'].nunique()

print("Number of unique tweets with 'neutral' sentiment class:", neutral_unique_tweets)
